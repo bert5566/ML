{
 "cells": [
  {
   "cell_type": "code",
   "execution_count": 186,
   "metadata": {},
   "outputs": [],
   "source": [
    "# 載入基本套件\n",
    "import pandas as pd\n",
    "import numpy as np\n",
    "import copy\n",
    "import seaborn as sns\n",
    "import matplotlib.pyplot as plt\n",
    "from sklearn.preprocessing import MinMaxScaler\n",
    "from sklearn.model_selection import cross_val_score\n",
    "from sklearn.ensemble import RandomForestRegressor\n",
    "from sklearn.model_selection import train_test_split\n",
    "from sklearn.model_selection import GridSearchCV , RandomizedSearchCV\n",
    "from sklearn.ensemble import GradientBoostingRegressor\n",
    "from sklearn.metrics import mean_squared_error"
   ]
  },
  {
   "cell_type": "code",
   "execution_count": 1,
   "metadata": {},
   "outputs": [],
   "source": [
    "import tensorflow\n",
    "import keras"
   ]
  },
  {
   "cell_type": "code",
   "execution_count": 187,
   "metadata": {},
   "outputs": [
    {
     "data": {
      "text/html": [
       "<div>\n",
       "<style scoped>\n",
       "    .dataframe tbody tr th:only-of-type {\n",
       "        vertical-align: middle;\n",
       "    }\n",
       "\n",
       "    .dataframe tbody tr th {\n",
       "        vertical-align: top;\n",
       "    }\n",
       "\n",
       "    .dataframe thead th {\n",
       "        text-align: right;\n",
       "    }\n",
       "</style>\n",
       "<table border=\"1\" class=\"dataframe\">\n",
       "  <thead>\n",
       "    <tr style=\"text-align: right;\">\n",
       "      <th></th>\n",
       "      <th>0</th>\n",
       "      <th>1</th>\n",
       "      <th>2</th>\n",
       "      <th>3</th>\n",
       "      <th>4</th>\n",
       "      <th>5</th>\n",
       "      <th>6</th>\n",
       "      <th>7</th>\n",
       "      <th>8</th>\n",
       "      <th>9</th>\n",
       "      <th>...</th>\n",
       "      <th>10448</th>\n",
       "      <th>10449</th>\n",
       "      <th>10450</th>\n",
       "      <th>10451</th>\n",
       "      <th>10452</th>\n",
       "      <th>10453</th>\n",
       "      <th>10454</th>\n",
       "      <th>10455</th>\n",
       "      <th>10456</th>\n",
       "      <th>10457</th>\n",
       "    </tr>\n",
       "  </thead>\n",
       "  <tbody>\n",
       "    <tr>\n",
       "      <th>0</th>\n",
       "      <td>1</td>\n",
       "      <td>1</td>\n",
       "      <td>0</td>\n",
       "      <td>23.048</td>\n",
       "      <td>120.218</td>\n",
       "      <td>24.0</td>\n",
       "      <td>25.013</td>\n",
       "      <td>121.459</td>\n",
       "      <td>17.0</td>\n",
       "      <td>25.069</td>\n",
       "      <td>...</td>\n",
       "      <td>33.959</td>\n",
       "      <td>25.156</td>\n",
       "      <td>121.407</td>\n",
       "      <td>9.246</td>\n",
       "      <td>22.587</td>\n",
       "      <td>120.434</td>\n",
       "      <td>21.983</td>\n",
       "      <td>23.465</td>\n",
       "      <td>120.247</td>\n",
       "      <td>17.0</td>\n",
       "    </tr>\n",
       "    <tr>\n",
       "      <th>1</th>\n",
       "      <td>1</td>\n",
       "      <td>1</td>\n",
       "      <td>0</td>\n",
       "      <td>23.048</td>\n",
       "      <td>120.218</td>\n",
       "      <td>24.0</td>\n",
       "      <td>25.013</td>\n",
       "      <td>121.459</td>\n",
       "      <td>17.0</td>\n",
       "      <td>25.069</td>\n",
       "      <td>...</td>\n",
       "      <td>33.959</td>\n",
       "      <td>25.156</td>\n",
       "      <td>121.407</td>\n",
       "      <td>9.246</td>\n",
       "      <td>22.587</td>\n",
       "      <td>120.434</td>\n",
       "      <td>21.983</td>\n",
       "      <td>22.633</td>\n",
       "      <td>120.288</td>\n",
       "      <td>39.0</td>\n",
       "    </tr>\n",
       "    <tr>\n",
       "      <th>2</th>\n",
       "      <td>1</td>\n",
       "      <td>1</td>\n",
       "      <td>0</td>\n",
       "      <td>23.048</td>\n",
       "      <td>120.218</td>\n",
       "      <td>24.0</td>\n",
       "      <td>25.013</td>\n",
       "      <td>121.459</td>\n",
       "      <td>17.0</td>\n",
       "      <td>25.069</td>\n",
       "      <td>...</td>\n",
       "      <td>33.959</td>\n",
       "      <td>25.156</td>\n",
       "      <td>121.407</td>\n",
       "      <td>9.246</td>\n",
       "      <td>22.587</td>\n",
       "      <td>120.434</td>\n",
       "      <td>21.983</td>\n",
       "      <td>22.605</td>\n",
       "      <td>120.308</td>\n",
       "      <td>46.0</td>\n",
       "    </tr>\n",
       "    <tr>\n",
       "      <th>3</th>\n",
       "      <td>1</td>\n",
       "      <td>1</td>\n",
       "      <td>0</td>\n",
       "      <td>23.048</td>\n",
       "      <td>120.218</td>\n",
       "      <td>24.0</td>\n",
       "      <td>25.013</td>\n",
       "      <td>121.459</td>\n",
       "      <td>17.0</td>\n",
       "      <td>25.069</td>\n",
       "      <td>...</td>\n",
       "      <td>33.959</td>\n",
       "      <td>25.156</td>\n",
       "      <td>121.407</td>\n",
       "      <td>9.246</td>\n",
       "      <td>22.587</td>\n",
       "      <td>120.434</td>\n",
       "      <td>21.983</td>\n",
       "      <td>22.758</td>\n",
       "      <td>120.306</td>\n",
       "      <td>31.0</td>\n",
       "    </tr>\n",
       "    <tr>\n",
       "      <th>4</th>\n",
       "      <td>1</td>\n",
       "      <td>1</td>\n",
       "      <td>0</td>\n",
       "      <td>23.048</td>\n",
       "      <td>120.218</td>\n",
       "      <td>24.0</td>\n",
       "      <td>25.013</td>\n",
       "      <td>121.459</td>\n",
       "      <td>17.0</td>\n",
       "      <td>25.069</td>\n",
       "      <td>...</td>\n",
       "      <td>33.959</td>\n",
       "      <td>25.156</td>\n",
       "      <td>121.407</td>\n",
       "      <td>9.246</td>\n",
       "      <td>22.587</td>\n",
       "      <td>120.434</td>\n",
       "      <td>21.983</td>\n",
       "      <td>22.689</td>\n",
       "      <td>120.333</td>\n",
       "      <td>33.0</td>\n",
       "    </tr>\n",
       "  </tbody>\n",
       "</table>\n",
       "<p>5 rows × 10458 columns</p>\n",
       "</div>"
      ],
      "text/plain": [
       "   0  1  2       3        4     5       6        7     8       9  ...   10448  \\\n",
       "0  1  1  0  23.048  120.218  24.0  25.013  121.459  17.0  25.069  ...  33.959   \n",
       "1  1  1  0  23.048  120.218  24.0  25.013  121.459  17.0  25.069  ...  33.959   \n",
       "2  1  1  0  23.048  120.218  24.0  25.013  121.459  17.0  25.069  ...  33.959   \n",
       "3  1  1  0  23.048  120.218  24.0  25.013  121.459  17.0  25.069  ...  33.959   \n",
       "4  1  1  0  23.048  120.218  24.0  25.013  121.459  17.0  25.069  ...  33.959   \n",
       "\n",
       "    10449    10450  10451   10452    10453   10454   10455    10456  10457  \n",
       "0  25.156  121.407  9.246  22.587  120.434  21.983  23.465  120.247   17.0  \n",
       "1  25.156  121.407  9.246  22.587  120.434  21.983  22.633  120.288   39.0  \n",
       "2  25.156  121.407  9.246  22.587  120.434  21.983  22.605  120.308   46.0  \n",
       "3  25.156  121.407  9.246  22.587  120.434  21.983  22.758  120.306   31.0  \n",
       "4  25.156  121.407  9.246  22.587  120.434  21.983  22.689  120.333   33.0  \n",
       "\n",
       "[5 rows x 10458 columns]"
      ]
     },
     "execution_count": 187,
     "metadata": {},
     "output_type": "execute_result"
    }
   ],
   "source": [
    "# 設定 data_path\n",
    "data_path = 'data/'\n",
    "train = pd.read_csv(data_path + 'training.csv')\n",
    "test = pd.read_csv(data_path + 'testing.csv')\n",
    "ids = test['id']\n",
    "# 讀取檔案\n",
    "train.head()"
   ]
  },
  {
   "cell_type": "code",
   "execution_count": 193,
   "metadata": {},
   "outputs": [],
   "source": [
    "# 拆分成三個一組 \n",
    "# \"0\": 月份\n",
    "# \"1\": 日期\n",
    "# \"2\": 小時\n",
    "columns=['date','hour','latitude','Longitude','pm2.5']\n",
    "def refactor_data(origin_data, length):\n",
    "    refactor_data = pd.DataFrame(columns=columns)\n",
    "    for i in range(3,length,3) :\n",
    "        df_temp = origin_data.loc[:,['1','2',str(i) ,str(i+1) ,str(i+2)]]\n",
    "    # 過濾重複資料\n",
    "        df_temp.columns = columns\n",
    "        df_temp = df_temp.drop_duplicates()\n",
    "        refactor_data = pd.concat([refactor_data,df_temp], ignore_index=True)\n",
    "    return refactor_data"
   ]
  },
  {
   "cell_type": "code",
   "execution_count": 194,
   "metadata": {},
   "outputs": [
    {
     "name": "stdout",
     "output_type": "stream",
     "text": [
      "訓練資料_1(338016, 5)\n",
      "訓練資料_2(250848, 5)\n",
      "合併訓練資料(588864, 5)\n"
     ]
    }
   ],
   "source": [
    "train_data = refactor_data(train ,len(train.columns))\n",
    "print(f'訓練資料_1{train_data.shape}')\n",
    "test_data = refactor_data(test ,len(test.columns) -3 ) # 最後column保留預測\n",
    "print(f'訓練資料_2{test_data.shape}')\n",
    "refactor_data1 = pd.concat([train_data,test_data], ignore_index=True)\n",
    "print(f'合併訓練資料{refactor_data1.shape}')\n",
    "refactor_data1 = refactor_data1.drop_duplicates()\n",
    "print(f'清除重複資料{refactor_data1.shape}')"
   ]
  },
  {
   "cell_type": "code",
   "execution_count": 201,
   "metadata": {},
   "outputs": [],
   "source": [
    "# 處理要預測資料\n",
    "predit_data = test.loc[:,['1','2','10455' , '10456']]\n",
    "predit_data.columns = ['date','hour','latitude','Longitude']"
   ]
  },
  {
   "cell_type": "code",
   "execution_count": 205,
   "metadata": {},
   "outputs": [],
   "source": [
    "# 資料轉成int\n",
    "refactor_data1[\"date\"] = pd.to_numeric(refactor_data1[\"date\"])\n",
    "refactor_data1[\"hour\"] = pd.to_numeric(refactor_data1[\"hour\"])"
   ]
  },
  {
   "cell_type": "code",
   "execution_count": 209,
   "metadata": {},
   "outputs": [
    {
     "data": {
      "image/png": "[encoded data removed]",
      "text/plain": [
       "<Figure size 432x288 with 1 Axes>"
      ]
     },
     "metadata": {
      "needs_background": "light"
     },
     "output_type": "display_data"
    }
   ],
   "source": [
    "# 緯度跟pm關係\n",
    "sns.regplot(x = refactor_data1['latitude'], y=refactor_data1['pm2.5'])\n",
    "sns.regplot(x = refactor_data1['Longitude'], y=refactor_data1['pm2.5'])\n",
    "sns.regplot(x = refactor_data1['date'], y=refactor_data1['pm2.5'])\n",
    "sns.regplot(x = refactor_data1['hour'], y=refactor_data1['pm2.5'])"
   ]
  },
  {
   "cell_type": "code",
   "execution_count": null,
   "metadata": {},
   "outputs": [],
   "source": [
    "############################################\n",
    "# 做到這裡\n",
    "############################################"
   ]
  },
  {
   "cell_type": "code",
   "execution_count": 216,
   "metadata": {},
   "outputs": [
    {
     "data": {
      "image/png": "[encoded data removed]",
      "text/plain": [
       "<Figure size 432x288 with 1 Axes>"
      ]
     },
     "metadata": {
      "needs_background": "light"
     },
     "output_type": "display_data"
    }
   ],
   "source": [
    "# 調整離群值\n",
    "from numpy import percentile\n",
    "\n",
    "\n",
    "percentile_arr = np.percentile(refactor_data1['pm2.5'] , [0,25,50,100])\n",
    "IQR = percentile_arr[3] - percentile_arr[1]\n",
    "UpLimit = percentile_arr[3] + IQR*1.5\n",
    "keep_indexs = (refactor_data1['pm2.5'] < UpLimit ) \n",
    "train_new = refactor_data1[keep_indexs]"
   ]
  },
  {
   "cell_type": "code",
   "execution_count": 234,
   "metadata": {},
   "outputs": [
    {
     "name": "stderr",
     "output_type": "stream",
     "text": [
      "c:\\Users\\test\\AppData\\Local\\Programs\\Python\\Python38\\lib\\site-packages\\seaborn\\distributions.py:2619: FutureWarning: `distplot` is a deprecated function and will be removed in a future version. Please adapt your code to use either `displot` (a figure-level function with similar flexibility) or `histplot` (an axes-level function for histograms).\n",
      "  warnings.warn(msg, FutureWarning)\n"
     ]
    },
    {
     "data": {
      "text/plain": [
       "<AxesSubplot:xlabel='pm2.5', ylabel='Density'>"
      ]
     },
     "execution_count": 234,
     "metadata": {},
     "output_type": "execute_result"
    },
    {
     "data": {
      "image/png": "[encoded data removed]",
      "text/plain": [
       "<Figure size 432x288 with 1 Axes>"
      ]
     },
     "metadata": {
      "needs_background": "light"
     },
     "output_type": "display_data"
    }
   ],
   "source": [
    "# sns.regplot(x = train_new['hour'], y=train_new['pm2.5'])\n",
    "# plt.plot()\n",
    "# sns.regplot(x = train_new['date'], y=train_new['pm2.5'])\n",
    "# plt.plot()\n",
    "\n",
    "sns.distplot(train_new['pm2.5'])\n",
    "# plt.plot()"
   ]
  },
  {
   "cell_type": "code",
   "execution_count": 108,
   "metadata": {},
   "outputs": [],
   "source": [
    "# 切分訓練集/測試集\n",
    "target = train_new['pm2.5']\n",
    "train_split = train_new.drop(['pm2.5'], axis=1)\n",
    "x_train, x_test, y_train, y_test = train_test_split(train_split, target, test_size=0.25, random_state=4)"
   ]
  },
  {
   "cell_type": "code",
   "execution_count": 117,
   "metadata": {},
   "outputs": [],
   "source": [
    "rf = RandomForestRegressor(n_estimators=300, min_samples_split=9, min_samples_leaf=10, \n",
    "                           max_features='sqrt', max_depth=8, bootstrap=False)\n",
    "gdbt = GradientBoostingRegressor(tol=0.1, subsample=0.37, n_estimators=200, max_features=20, \n",
    "        max_depth=6, learning_rate=0.03)\n",
    "gdbt.fit(train_split, target)\n",
    "# 使用test資料預測\n",
    "predictedgdbt=gdbt.predict(test)\n"
   ]
  },
  {
   "cell_type": "code",
   "execution_count": null,
   "metadata": {},
   "outputs": [],
   "source": [
    "loss = ['ls', 'lad', 'huber']\n",
    "n_estimators = [300, 500, 600, 800]\n",
    "max_depth = [2, 3, 5, 10, 15]\n",
    "min_samples_leaf = [ 6, 8 , 10] \n",
    "min_samples_split = [2, 4, 6, 10]\n",
    "max_features = ['auto', 'sqrt', 'log2', None]\n",
    "\n",
    "# Define the grid of hyperparameters to search\n",
    "hyperparameter_grid = {'loss': loss,\n",
    "    'n_estimators': n_estimators,\n",
    "    'max_depth': max_depth,\n",
    "    'min_samples_leaf': min_samples_leaf,\n",
    "    'min_samples_split': min_samples_split,\n",
    "    'max_features': max_features}\n",
    "\n",
    "# Set up the random search with 4-fold cross validation\n",
    "random_cv = RandomizedSearchCV(estimator=gradientboost,\n",
    "            param_distributions=hyperparameter_grid,\n",
    "            cv=4, n_iter=50,\n",
    "            scoring = 'neg_mean_absolute_error',\n",
    "            verbose = 5, \n",
    "            random_state=42)\n",
    "random_cv.fit(x_train,y_train)\n",
    "\n",
    "print(random_cv.best_estimator_)\n",
    "print(random_cv.best_score_)"
   ]
  },
  {
   "cell_type": "code",
   "execution_count": 123,
   "metadata": {},
   "outputs": [],
   "source": [
    "sub = pd.DataFrame({\"id\":ids , \"pm2.5\" :predictedgdbt})\n",
    "sub.to_csv(\"728gdbt.csv\" , index=False)"
   ]
  },
  {
   "cell_type": "code",
   "execution_count": 98,
   "metadata": {},
   "outputs": [],
   "source": [
    "aa = gdbt.predict(test)"
   ]
  },
  {
   "cell_type": "code",
   "execution_count": 99,
   "metadata": {},
   "outputs": [],
   "source": [
    "# from ctypes.wintypes import tagRECT\n",
    "# import xgboost as xgb\n",
    "\n",
    "# # 建立 XGBRegressor 模型\n",
    "# cv_params = {'max_depth': [3, 4, 5, 6, 7, 8, 9, 10], 'min_child_weight': [1, 2, 3, 4, 5, 6]}\n",
    "# other_params = {'learning_rate': 0.07, 'n_estimators': 650, 'max_depth': 7, 'min_child_weight': 6, 'seed': 0,\n",
    "#                     'subsample': 0.6, 'colsample_bytree': 0.8, 'gamma': 0.1, 'reg_alpha': 3, 'reg_lambda': 1}\n",
    "# xgbrModel = xgb.XGBRegressor(**other_params)\n",
    "# 使用訓練資料訓練模型\n",
    "# xgbrModel.fit(train_split, target)\n",
    "# 使用test資料預測\n",
    "# predicted=xgbrModel.predict(test)\n",
    "# sub = pd.DataFrame({'id': ids, 'pm2.5': np.round(predicted)})\n",
    "# sub.to_csv('727.csv', index=False) \n",
    "\n",
    "# optimized_GBM = GridSearchCV(estimator=xgbrModel, param_grid=cv_params, scoring='r2', cv=5, verbose=1, n_jobs=4)\n",
    "# optimized_GBM.fit(x_train, y_train)\n",
    "# evalute_result = optimized_GBM.cv_results_\n",
    "# print('每輪结果:{0}'.format(evalute_result))\n",
    "# print('参数的最佳取值：{0}'.format(optimized_GBM.best_params_))\n",
    "# print('最佳模型得分:{0}'.format(optimized_GBM.best_score_))"
   ]
  },
  {
   "cell_type": "code",
   "execution_count": 118,
   "metadata": {},
   "outputs": [],
   "source": [
    "import xgboost as xgb\n",
    "\n",
    "xgbrModel = xgb.XGBRegressor(learning_rate= 0.1,\n",
    "n_estimators= 500,\n",
    "max_depth= 5,\n",
    "min_child_weight= 1,\n",
    "subsample= 0.8,\n",
    "colsample_bytree=0.8,\n",
    "gamma= 0,\n",
    "reg_alpha= 0,\n",
    "reg_lambda= 1)\n",
    "# 使用訓練資料訓練模型\n",
    "xgbrModel.fit(train_split, target)\n",
    "# 使用test資料預測\n",
    "predictedxg=xgbrModel.predict(test)\n"
   ]
  },
  {
   "cell_type": "code",
   "execution_count": 120,
   "metadata": {},
   "outputs": [],
   "source": [
    "sub = pd.DataFrame({\"id\":ids , \"pm2.5\" : predictedxg})\n",
    "sub.to_csv(\"728xg.csv\" , index=False)"
   ]
  },
  {
   "cell_type": "code",
   "execution_count": 105,
   "metadata": {},
   "outputs": [
    {
     "name": "stdout",
     "output_type": "stream",
     "text": [
      "0.1043893679227278\n"
     ]
    }
   ],
   "source": [
    "\n",
    "print(mean_squared_error(y_test ,np.round( )))"
   ]
  },
  {
   "cell_type": "code",
   "execution_count": 107,
   "metadata": {},
   "outputs": [
    {
     "name": "stdout",
     "output_type": "stream",
     "text": [
      "[2.4939456 3.1245987 2.5641482 ... 2.664926  2.1983273 3.1923714]\n"
     ]
    }
   ],
   "source": [
    "print(predicted)"
   ]
  }
 ],
 "metadata": {
  "kernelspec": {
   "display_name": "Python 3.8.4 64-bit",
   "language": "python",
   "name": "python3"
  },
  "language_info": {
   "codemirror_mode": {
    "name": "ipython",
    "version": 3
   },
   "file_extension": ".py",
   "mimetype": "text/x-python",
   "name": "python",
   "nbconvert_exporter": "python",
   "pygments_lexer": "ipython3",
   "version": "3.8.4"
  },
  "vscode": {
   "interpreter": {
    "hash": "205595cd1daa4a192140885c104c4ea416cf31c31e44558713cd0df72bb67f19"
   }
  }
 },
 "nbformat": 4,
 "nbformat_minor": 2
}
