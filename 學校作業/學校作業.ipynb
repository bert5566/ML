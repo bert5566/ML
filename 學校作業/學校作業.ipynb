{
 "cells": [
  {
   "cell_type": "code",
   "execution_count": 211,
   "metadata": {},
   "outputs": [],
   "source": [
    "# 載入基本套件\n",
    "import pandas as pd\n",
    "import numpy as np\n",
    "import copy\n",
    "import seaborn as sns\n",
    "import matplotlib.pyplot as plt\n",
    "from sklearn.preprocessing import MinMaxScaler\n",
    "from sklearn.model_selection import cross_val_score\n",
    "from sklearn.ensemble import RandomForestRegressor\n",
    "from sklearn.model_selection import train_test_split\n",
    "from sklearn.model_selection import GridSearchCV , RandomizedSearchCV\n",
    "from sklearn.ensemble import GradientBoostingRegressor\n",
    "from sklearn.metrics import mean_squared_error"
   ]
  },
  {
   "cell_type": "code",
   "execution_count": 212,
   "metadata": {},
   "outputs": [
    {
     "data": {
      "text/html": [
       "<div>\n",
       "<style scoped>\n",
       "    .dataframe tbody tr th:only-of-type {\n",
       "        vertical-align: middle;\n",
       "    }\n",
       "\n",
       "    .dataframe tbody tr th {\n",
       "        vertical-align: top;\n",
       "    }\n",
       "\n",
       "    .dataframe thead th {\n",
       "        text-align: right;\n",
       "    }\n",
       "</style>\n",
       "<table border=\"1\" class=\"dataframe\">\n",
       "  <thead>\n",
       "    <tr style=\"text-align: right;\">\n",
       "      <th></th>\n",
       "      <th>0</th>\n",
       "      <th>1</th>\n",
       "      <th>2</th>\n",
       "      <th>3</th>\n",
       "      <th>4</th>\n",
       "      <th>5</th>\n",
       "      <th>6</th>\n",
       "      <th>7</th>\n",
       "      <th>8</th>\n",
       "      <th>9</th>\n",
       "      <th>...</th>\n",
       "      <th>10448</th>\n",
       "      <th>10449</th>\n",
       "      <th>10450</th>\n",
       "      <th>10451</th>\n",
       "      <th>10452</th>\n",
       "      <th>10453</th>\n",
       "      <th>10454</th>\n",
       "      <th>10455</th>\n",
       "      <th>10456</th>\n",
       "      <th>10457</th>\n",
       "    </tr>\n",
       "  </thead>\n",
       "  <tbody>\n",
       "    <tr>\n",
       "      <th>0</th>\n",
       "      <td>1</td>\n",
       "      <td>1</td>\n",
       "      <td>0</td>\n",
       "      <td>23.048</td>\n",
       "      <td>120.218</td>\n",
       "      <td>24.0</td>\n",
       "      <td>25.013</td>\n",
       "      <td>121.459</td>\n",
       "      <td>17.0</td>\n",
       "      <td>25.069</td>\n",
       "      <td>...</td>\n",
       "      <td>33.959</td>\n",
       "      <td>25.156</td>\n",
       "      <td>121.407</td>\n",
       "      <td>9.246</td>\n",
       "      <td>22.587</td>\n",
       "      <td>120.434</td>\n",
       "      <td>21.983</td>\n",
       "      <td>23.465</td>\n",
       "      <td>120.247</td>\n",
       "      <td>17.0</td>\n",
       "    </tr>\n",
       "    <tr>\n",
       "      <th>1</th>\n",
       "      <td>1</td>\n",
       "      <td>1</td>\n",
       "      <td>0</td>\n",
       "      <td>23.048</td>\n",
       "      <td>120.218</td>\n",
       "      <td>24.0</td>\n",
       "      <td>25.013</td>\n",
       "      <td>121.459</td>\n",
       "      <td>17.0</td>\n",
       "      <td>25.069</td>\n",
       "      <td>...</td>\n",
       "      <td>33.959</td>\n",
       "      <td>25.156</td>\n",
       "      <td>121.407</td>\n",
       "      <td>9.246</td>\n",
       "      <td>22.587</td>\n",
       "      <td>120.434</td>\n",
       "      <td>21.983</td>\n",
       "      <td>22.633</td>\n",
       "      <td>120.288</td>\n",
       "      <td>39.0</td>\n",
       "    </tr>\n",
       "    <tr>\n",
       "      <th>2</th>\n",
       "      <td>1</td>\n",
       "      <td>1</td>\n",
       "      <td>0</td>\n",
       "      <td>23.048</td>\n",
       "      <td>120.218</td>\n",
       "      <td>24.0</td>\n",
       "      <td>25.013</td>\n",
       "      <td>121.459</td>\n",
       "      <td>17.0</td>\n",
       "      <td>25.069</td>\n",
       "      <td>...</td>\n",
       "      <td>33.959</td>\n",
       "      <td>25.156</td>\n",
       "      <td>121.407</td>\n",
       "      <td>9.246</td>\n",
       "      <td>22.587</td>\n",
       "      <td>120.434</td>\n",
       "      <td>21.983</td>\n",
       "      <td>22.605</td>\n",
       "      <td>120.308</td>\n",
       "      <td>46.0</td>\n",
       "    </tr>\n",
       "    <tr>\n",
       "      <th>3</th>\n",
       "      <td>1</td>\n",
       "      <td>1</td>\n",
       "      <td>0</td>\n",
       "      <td>23.048</td>\n",
       "      <td>120.218</td>\n",
       "      <td>24.0</td>\n",
       "      <td>25.013</td>\n",
       "      <td>121.459</td>\n",
       "      <td>17.0</td>\n",
       "      <td>25.069</td>\n",
       "      <td>...</td>\n",
       "      <td>33.959</td>\n",
       "      <td>25.156</td>\n",
       "      <td>121.407</td>\n",
       "      <td>9.246</td>\n",
       "      <td>22.587</td>\n",
       "      <td>120.434</td>\n",
       "      <td>21.983</td>\n",
       "      <td>22.758</td>\n",
       "      <td>120.306</td>\n",
       "      <td>31.0</td>\n",
       "    </tr>\n",
       "    <tr>\n",
       "      <th>4</th>\n",
       "      <td>1</td>\n",
       "      <td>1</td>\n",
       "      <td>0</td>\n",
       "      <td>23.048</td>\n",
       "      <td>120.218</td>\n",
       "      <td>24.0</td>\n",
       "      <td>25.013</td>\n",
       "      <td>121.459</td>\n",
       "      <td>17.0</td>\n",
       "      <td>25.069</td>\n",
       "      <td>...</td>\n",
       "      <td>33.959</td>\n",
       "      <td>25.156</td>\n",
       "      <td>121.407</td>\n",
       "      <td>9.246</td>\n",
       "      <td>22.587</td>\n",
       "      <td>120.434</td>\n",
       "      <td>21.983</td>\n",
       "      <td>22.689</td>\n",
       "      <td>120.333</td>\n",
       "      <td>33.0</td>\n",
       "    </tr>\n",
       "  </tbody>\n",
       "</table>\n",
       "<p>5 rows × 10458 columns</p>\n",
       "</div>"
      ],
      "text/plain": [
       "   0  1  2       3        4     5       6        7     8       9  ...   10448  \\\n",
       "0  1  1  0  23.048  120.218  24.0  25.013  121.459  17.0  25.069  ...  33.959   \n",
       "1  1  1  0  23.048  120.218  24.0  25.013  121.459  17.0  25.069  ...  33.959   \n",
       "2  1  1  0  23.048  120.218  24.0  25.013  121.459  17.0  25.069  ...  33.959   \n",
       "3  1  1  0  23.048  120.218  24.0  25.013  121.459  17.0  25.069  ...  33.959   \n",
       "4  1  1  0  23.048  120.218  24.0  25.013  121.459  17.0  25.069  ...  33.959   \n",
       "\n",
       "    10449    10450  10451   10452    10453   10454   10455    10456  10457  \n",
       "0  25.156  121.407  9.246  22.587  120.434  21.983  23.465  120.247   17.0  \n",
       "1  25.156  121.407  9.246  22.587  120.434  21.983  22.633  120.288   39.0  \n",
       "2  25.156  121.407  9.246  22.587  120.434  21.983  22.605  120.308   46.0  \n",
       "3  25.156  121.407  9.246  22.587  120.434  21.983  22.758  120.306   31.0  \n",
       "4  25.156  121.407  9.246  22.587  120.434  21.983  22.689  120.333   33.0  \n",
       "\n",
       "[5 rows x 10458 columns]"
      ]
     },
     "execution_count": 212,
     "metadata": {},
     "output_type": "execute_result"
    }
   ],
   "source": [
    "# 設定 data_path\n",
    "data_path = 'data/'\n",
    "train = pd.read_csv(data_path + 'training.csv')\n",
    "test = pd.read_csv(data_path + 'testing.csv')\n",
    "ids = test['id']\n",
    "# 讀取檔案\n",
    "train.head()"
   ]
  },
  {
   "cell_type": "code",
   "execution_count": 213,
   "metadata": {},
   "outputs": [],
   "source": [
    "# 拆分成三個一組 \n",
    "# \"0\": 月份\n",
    "# \"1\": 日期\n",
    "# \"2\": 小時\n",
    "columns=['date','hour','latitude','Longitude','pm2.5']\n",
    "def refactor_data(origin_data, length):\n",
    "    refactor_data = pd.DataFrame(columns=columns)\n",
    "    for i in range(3,length,3) :\n",
    "        df_temp = origin_data.loc[:,['1','2',str(i) ,str(i+1) ,str(i+2)]]\n",
    "    # 過濾重複資料\n",
    "        df_temp.columns = columns\n",
    "        df_temp = df_temp.drop_duplicates()\n",
    "        refactor_data = pd.concat([refactor_data,df_temp], ignore_index=True)\n",
    "    return refactor_data"
   ]
  },
  {
   "cell_type": "code",
   "execution_count": 214,
   "metadata": {},
   "outputs": [
    {
     "name": "stdout",
     "output_type": "stream",
     "text": [
      "訓練資料_1(338016, 5)\n",
      "訓練資料_2(250848, 5)\n",
      "合併訓練資料(588864, 5)\n",
      "清除重複資料(588624, 5)\n"
     ]
    }
   ],
   "source": [
    "train_data = refactor_data(train ,len(train.columns))\n",
    "print(f'訓練資料_1{train_data.shape}')\n",
    "test_data = refactor_data(test ,len(test.columns) -3 ) # 最後column保留預測\n",
    "print(f'訓練資料_2{test_data.shape}')\n",
    "data_info = pd.concat([train_data,test_data], ignore_index=True)\n",
    "print(f'合併訓練資料{data_info.shape}')\n",
    "data_info = data_info.drop_duplicates()\n",
    "print(f'清除重複資料{data_info.shape}')"
   ]
  },
  {
   "cell_type": "code",
   "execution_count": 215,
   "metadata": {},
   "outputs": [
    {
     "data": {
      "image/png": "[encoded data removed]",
      "text/plain": [
       "<Figure size 144x360 with 1 Axes>"
      ]
     },
     "metadata": {
      "needs_background": "light"
     },
     "output_type": "display_data"
    }
   ],
   "source": [
    "plt.figure(figsize=(2, 5))\n",
    "plt.boxplot(data_info['pm2.5'], showmeans=True)\n",
    "plt.title('x')\n",
    "plt.show()"
   ]
  },
  {
   "cell_type": "code",
   "execution_count": 216,
   "metadata": {},
   "outputs": [],
   "source": [
    "# 0 低\n",
    "# 1 中\n",
    "# 2 高\n",
    "def get_standard(air):\n",
    "    if(air <= 35):\n",
    "        return 1\n",
    "    elif (air > 35 and air <= 53) : \n",
    "        return 2\n",
    "    elif ( air > 53): \n",
    "        return 3"
   ]
  },
  {
   "cell_type": "code",
   "execution_count": 217,
   "metadata": {},
   "outputs": [],
   "source": [
    "# 大於50的pm2.5離群值刪除\n",
    "data_info = data_info[data_info['pm2.5'] < 50]"
   ]
  },
  {
   "cell_type": "code",
   "execution_count": 218,
   "metadata": {},
   "outputs": [
    {
     "name": "stderr",
     "output_type": "stream",
     "text": [
      "c:\\Users\\user\\AppData\\Local\\Programs\\Python\\Python39\\lib\\site-packages\\seaborn\\distributions.py:2619: FutureWarning: `distplot` is a deprecated function and will be removed in a future version. Please adapt your code to use either `displot` (a figure-level function with similar flexibility) or `histplot` (an axes-level function for histograms).\n",
      "  warnings.warn(msg, FutureWarning)\n"
     ]
    },
    {
     "data": {
      "text/plain": [
       "<AxesSubplot:xlabel='pm2.5', ylabel='Density'>"
      ]
     },
     "execution_count": 218,
     "metadata": {},
     "output_type": "execute_result"
    },
    {
     "data": {
      "image/png": "[encoded data removed]",
      "text/plain": [
       "<Figure size 432x288 with 1 Axes>"
      ]
     },
     "metadata": {
      "needs_background": "light"
     },
     "output_type": "display_data"
    }
   ],
   "source": [
    "sns.distplot(data_info['pm2.5'])"
   ]
  },
  {
   "cell_type": "code",
   "execution_count": 219,
   "metadata": {},
   "outputs": [
    {
     "data": {
      "text/plain": [
       "date           int64\n",
       "hour           int64\n",
       "latitude     float64\n",
       "Longitude    float64\n",
       "pm2.5        float64\n",
       "dtype: object"
      ]
     },
     "execution_count": 219,
     "metadata": {},
     "output_type": "execute_result"
    }
   ],
   "source": [
    "# 資料轉成int\n",
    "data_info[\"date\"] = pd.to_numeric(data_info[\"date\"])\n",
    "data_info[\"hour\"] = pd.to_numeric(data_info[\"hour\"])\n",
    "data_info.dtypes"
   ]
  },
  {
   "cell_type": "code",
   "execution_count": 220,
   "metadata": {},
   "outputs": [],
   "source": [
    "# 處理要預測資料\n",
    "predit_data = test.loc[:,['1','2','10455' , '10456']]\n",
    "predit_data.columns = ['date','hour','latitude','Longitude']\n",
    "predit_data[\"date\"] = pd.to_numeric(predit_data[\"date\"])\n",
    "predit_data[\"hour\"] = pd.to_numeric(predit_data[\"hour\"])"
   ]
  },
  {
   "cell_type": "code",
   "execution_count": 221,
   "metadata": {},
   "outputs": [],
   "source": [
    "# 切分訓練集/測試集\n",
    "target = data_info['pm2.5']\n",
    "train_split = data_info.drop(['pm2.5'], axis=1)\n",
    "x_train, x_test, y_train, y_test = train_test_split(train_split, target, test_size=0.25, random_state=4)"
   ]
  },
  {
   "cell_type": "code",
   "execution_count": 222,
   "metadata": {},
   "outputs": [],
   "source": [
    "import xgboost as xgb\n",
    "rf = RandomForestRegressor(n_estimators=300, min_samples_split=9, min_samples_leaf=10, \n",
    "                           max_features='sqrt', max_depth=8, bootstrap=False)\n",
    "gdbt = GradientBoostingRegressor(tol=0.1, subsample=0.37, n_estimators=200, max_features=20,\n",
    "                                 max_depth=6, learning_rate=0.03)\n",
    "xgbrModel = xgb.XGBRegressor(learning_rate=0.1,\n",
    "                             n_estimators=500,\n",
    "                             max_depth=5,\n",
    "                             min_child_weight=1,\n",
    "                             subsample=0.8,\n",
    "                             colsample_bytree=0.8,\n",
    "                             gamma=0,\n",
    "                             reg_alpha=0,\n",
    "                             reg_lambda=1)\n",
    "# 使用訓練資料訓練模型\n",
    "gdbt.fit(x_train, y_train)\n",
    "rf.fit(x_train, y_train)\n",
    "xgbrModel.fit(x_train, y_train)\n",
    "# 使用test資料預測\n",
    "predictedgdbt = gdbt.predict(x_test)\n",
    "predictedrf = rf.predict(x_test)\n",
    "predictedxg = xgbrModel.predict(x_test)"
   ]
  },
  {
   "cell_type": "code",
   "execution_count": 223,
   "metadata": {},
   "outputs": [
    {
     "name": "stdout",
     "output_type": "stream",
     "text": [
      "gdbt mse: 24.16548637639316\n",
      "rf mse:29.680627891928143\n",
      "xgb mse:17.764578644392703\n"
     ]
    }
   ],
   "source": [
    "print(f'gdbt mse: {mean_squared_error(y_test , predictedgdbt)}')\n",
    "print(f'rf mse:{mean_squared_error(y_test , predictedrf)}')\n",
    "print(f'xgb mse:{mean_squared_error(y_test , predictedxg)}')\n"
   ]
  },
  {
   "cell_type": "code",
   "execution_count": 224,
   "metadata": {},
   "outputs": [
    {
     "data": {
      "text/plain": [
       "latitude     0.380399\n",
       "Longitude    0.318059\n",
       "date         0.205978\n",
       "hour         0.095564\n",
       "dtype: float32"
      ]
     },
     "execution_count": 224,
     "metadata": {},
     "output_type": "execute_result"
    }
   ],
   "source": [
    "feats = pd.Series(data=xgbrModel.feature_importances_, index=x_train.columns)\n",
    "feats = feats.sort_values(ascending=False)\n",
    "feats\n"
   ]
  },
  {
   "cell_type": "code",
   "execution_count": 225,
   "metadata": {},
   "outputs": [],
   "source": [
    "# loss = ['ls', 'lad', 'huber']\n",
    "# n_estimators = [300, 500, 600, 800]\n",
    "# max_depth = [2, 3, 5, 10, 15]\n",
    "# min_samples_leaf = [ 6, 8 , 10] \n",
    "# min_samples_split = [2, 4, 6, 10]\n",
    "# max_features = ['auto', 'sqrt', 'log2', None]\n",
    "\n",
    "# # Define the grid of hyperparameters to search\n",
    "# hyperparameter_grid = {'loss': loss,\n",
    "#     'n_estimators': n_estimators,\n",
    "#     'max_depth': max_depth,\n",
    "#     'min_samples_leaf': min_samples_leaf,\n",
    "#     'min_samples_split': min_samples_split,\n",
    "#     'max_features': max_features}\n",
    "\n",
    "# # Set up the random search with 4-fold cross validation\n",
    "# random_cv = RandomizedSearchCV(estimator=gradientboost,\n",
    "#             param_distributions=hyperparameter_grid,\n",
    "#             cv=4, n_iter=50,\n",
    "#             scoring = 'neg_mean_absolute_error',\n",
    "#             verbose = 5, \n",
    "#             random_state=42)\n",
    "# random_cv.fit(x_train,y_train)\n",
    "\n",
    "# print(random_cv.best_estimator_)\n",
    "# print(random_cv.best_score_)"
   ]
  },
  {
   "cell_type": "code",
   "execution_count": 226,
   "metadata": {},
   "outputs": [],
   "source": [
    "# sub = pd.DataFrame({\"id\":ids , \"pm2.5\" :predictedgdbt})\n",
    "# sub.to_csv(\"728gdbt.csv\" , index=False)"
   ]
  },
  {
   "cell_type": "code",
   "execution_count": 227,
   "metadata": {},
   "outputs": [],
   "source": [
    "# from ctypes.wintypes import tagRECT\n",
    "import xgboost as xgb\n",
    "\n",
    "# # 建立 XGBRegressor 模型\n",
    "# cv_params = {'max_depth': [3, 4, 5, 6, 7, 8, 9, 10], 'min_child_weight': [1, 2, 3, 4, 5, 6]}\n",
    "# other_params = {'learning_rate': 0.07, 'n_estimators': 650, 'max_depth': 7, 'min_child_weight': 6, 'seed': 0,\n",
    "#                     'subsample': 0.6, 'colsample_bytree': 0.8, 'gamma': 0.1, 'reg_alpha': 3, 'reg_lambda': 1}\n",
    "# other_params = {'learning_rate': 0.1, 'n_estimators': 500, 'max_depth': 5, 'min_child_weight': 1, 'seed': 0,\n",
    "#  'subsample': 0.8, 'colsample_bytree': 0.8, 'gamma': 0, 'reg_alpha': 0, 'reg_lambda': 1}\n",
    "# xgbrModel = xgb.XGBRegressor(**other_params)\n",
    "# # 使用訓練資料訓練模型\n",
    "# xgbrModel.fit(x_train, y_train)\n",
    "# # 使用test資料預測\n",
    "# predicted=xgbrModel.predict(x_test)\n",
    "\n",
    "# sub = pd.DataFrame({'id': ids, 'pm2.5': np.round(predicted)})\n",
    "# sub.to_csv('727.csv', index=False) \n",
    "\n",
    "# optimized_GBM = GridSearchCV(estimator=xgbrModel, param_grid=cv_params, scoring='r2', cv=5, verbose=1, n_jobs=4)\n",
    "# optimized_GBM.fit(x_train, y_train)\n",
    "# evalute_result = optimized_GBM.cv_results_\n",
    "# print('每輪结果:{0}'.format(evalute_result))\n",
    "# print('参数的最佳取值：{0}'.format(optimized_GBM.best_params_))\n",
    "# print('最佳模型得分:{0}'.format(optimized_GBM.best_score_))"
   ]
  },
  {
   "cell_type": "code",
   "execution_count": 228,
   "metadata": {},
   "outputs": [
    {
     "data": {
      "text/plain": [
       "latitude     0.380399\n",
       "Longitude    0.318059\n",
       "date         0.205978\n",
       "hour         0.095564\n",
       "dtype: float32"
      ]
     },
     "execution_count": 228,
     "metadata": {},
     "output_type": "execute_result"
    }
   ],
   "source": [
    "# print(f'xgb mse:{mean_squared_error(y_test , predictedxg)}')\n",
    "feats = pd.Series(data=xgbrModel.feature_importances_,\n",
    "                  index=train_split.columns)\n",
    "feats = feats.sort_values(ascending=False)\n",
    "feats\n"
   ]
  },
  {
   "cell_type": "code",
   "execution_count": 229,
   "metadata": {},
   "outputs": [],
   "source": [
    "# sub = pd.DataFrame({\"id\": ids, \"pm2.5\": predictedxg})\n",
    "# sub.to_csv(\"730xgb.csv\" , index=False)\n"
   ]
  }
 ],
 "metadata": {
  "kernelspec": {
   "display_name": "Python 3.9.11 64-bit",
   "language": "python",
   "name": "python3"
  },
  "language_info": {
   "codemirror_mode": {
    "name": "ipython",
    "version": 3
   },
   "file_extension": ".py",
   "mimetype": "text/x-python",
   "name": "python",
   "nbconvert_exporter": "python",
   "pygments_lexer": "ipython3",
   "version": "3.9.11"
  },
  "vscode": {
   "interpreter": {
    "hash": "82ed002fa2d4956f5c6aec99bcefe0f73a9f79882f3c9e2319b14958a5896ac5"
   }
  }
 },
 "nbformat": 4,
 "nbformat_minor": 2
}
