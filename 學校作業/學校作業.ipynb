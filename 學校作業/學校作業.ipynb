{
 "cells": [
  {
   "cell_type": "code",
   "execution_count": 7,
   "metadata": {},
   "outputs": [],
   "source": [
    "# 載入基本套件\n",
    "import pandas as pd\n",
    "import numpy as np\n",
    "import copy\n",
    "import seaborn as sns\n",
    "import matplotlib.pyplot as plt\n",
    "from sklearn.preprocessing import MinMaxScaler\n",
    "from sklearn.model_selection import cross_val_score\n",
    "from sklearn.ensemble import RandomForestRegressor\n",
    "from sklearn.model_selection import train_test_split\n",
    "from sklearn.model_selection import GridSearchCV , RandomizedSearchCV\n",
    "from sklearn.ensemble import GradientBoostingRegressor\n",
    "from sklearn.metrics import mean_squared_error"
   ]
  },
  {
   "cell_type": "code",
   "execution_count": 2,
   "metadata": {},
   "outputs": [
    {
     "data": {
      "text/html": [
       "<div>\n",
       "<style scoped>\n",
       "    .dataframe tbody tr th:only-of-type {\n",
       "        vertical-align: middle;\n",
       "    }\n",
       "\n",
       "    .dataframe tbody tr th {\n",
       "        vertical-align: top;\n",
       "    }\n",
       "\n",
       "    .dataframe thead th {\n",
       "        text-align: right;\n",
       "    }\n",
       "</style>\n",
       "<table border=\"1\" class=\"dataframe\">\n",
       "  <thead>\n",
       "    <tr style=\"text-align: right;\">\n",
       "      <th></th>\n",
       "      <th>0</th>\n",
       "      <th>1</th>\n",
       "      <th>2</th>\n",
       "      <th>3</th>\n",
       "      <th>4</th>\n",
       "      <th>5</th>\n",
       "      <th>6</th>\n",
       "      <th>7</th>\n",
       "      <th>8</th>\n",
       "      <th>9</th>\n",
       "      <th>...</th>\n",
       "      <th>10448</th>\n",
       "      <th>10449</th>\n",
       "      <th>10450</th>\n",
       "      <th>10451</th>\n",
       "      <th>10452</th>\n",
       "      <th>10453</th>\n",
       "      <th>10454</th>\n",
       "      <th>10455</th>\n",
       "      <th>10456</th>\n",
       "      <th>10457</th>\n",
       "    </tr>\n",
       "  </thead>\n",
       "  <tbody>\n",
       "    <tr>\n",
       "      <th>0</th>\n",
       "      <td>1</td>\n",
       "      <td>1</td>\n",
       "      <td>0</td>\n",
       "      <td>25.013</td>\n",
       "      <td>121.459</td>\n",
       "      <td>17.0</td>\n",
       "      <td>25.013</td>\n",
       "      <td>121.459</td>\n",
       "      <td>17.0</td>\n",
       "      <td>25.013</td>\n",
       "      <td>...</td>\n",
       "      <td>17.0</td>\n",
       "      <td>25.013</td>\n",
       "      <td>121.459</td>\n",
       "      <td>17.0</td>\n",
       "      <td>25.013</td>\n",
       "      <td>121.459</td>\n",
       "      <td>17.0</td>\n",
       "      <td>23.465</td>\n",
       "      <td>120.247</td>\n",
       "      <td>17.0</td>\n",
       "    </tr>\n",
       "    <tr>\n",
       "      <th>1</th>\n",
       "      <td>1</td>\n",
       "      <td>1</td>\n",
       "      <td>0</td>\n",
       "      <td>25.013</td>\n",
       "      <td>121.459</td>\n",
       "      <td>17.0</td>\n",
       "      <td>25.013</td>\n",
       "      <td>121.459</td>\n",
       "      <td>17.0</td>\n",
       "      <td>25.013</td>\n",
       "      <td>...</td>\n",
       "      <td>17.0</td>\n",
       "      <td>25.013</td>\n",
       "      <td>121.459</td>\n",
       "      <td>17.0</td>\n",
       "      <td>25.013</td>\n",
       "      <td>121.459</td>\n",
       "      <td>17.0</td>\n",
       "      <td>22.633</td>\n",
       "      <td>120.288</td>\n",
       "      <td>39.0</td>\n",
       "    </tr>\n",
       "    <tr>\n",
       "      <th>2</th>\n",
       "      <td>1</td>\n",
       "      <td>1</td>\n",
       "      <td>0</td>\n",
       "      <td>25.013</td>\n",
       "      <td>121.459</td>\n",
       "      <td>17.0</td>\n",
       "      <td>25.013</td>\n",
       "      <td>121.459</td>\n",
       "      <td>17.0</td>\n",
       "      <td>25.013</td>\n",
       "      <td>...</td>\n",
       "      <td>17.0</td>\n",
       "      <td>25.013</td>\n",
       "      <td>121.459</td>\n",
       "      <td>17.0</td>\n",
       "      <td>25.013</td>\n",
       "      <td>121.459</td>\n",
       "      <td>17.0</td>\n",
       "      <td>22.605</td>\n",
       "      <td>120.308</td>\n",
       "      <td>46.0</td>\n",
       "    </tr>\n",
       "    <tr>\n",
       "      <th>3</th>\n",
       "      <td>1</td>\n",
       "      <td>1</td>\n",
       "      <td>0</td>\n",
       "      <td>25.013</td>\n",
       "      <td>121.459</td>\n",
       "      <td>17.0</td>\n",
       "      <td>25.013</td>\n",
       "      <td>121.459</td>\n",
       "      <td>17.0</td>\n",
       "      <td>25.013</td>\n",
       "      <td>...</td>\n",
       "      <td>17.0</td>\n",
       "      <td>25.013</td>\n",
       "      <td>121.459</td>\n",
       "      <td>17.0</td>\n",
       "      <td>25.013</td>\n",
       "      <td>121.459</td>\n",
       "      <td>17.0</td>\n",
       "      <td>22.758</td>\n",
       "      <td>120.306</td>\n",
       "      <td>31.0</td>\n",
       "    </tr>\n",
       "    <tr>\n",
       "      <th>4</th>\n",
       "      <td>1</td>\n",
       "      <td>1</td>\n",
       "      <td>0</td>\n",
       "      <td>25.013</td>\n",
       "      <td>121.459</td>\n",
       "      <td>17.0</td>\n",
       "      <td>25.013</td>\n",
       "      <td>121.459</td>\n",
       "      <td>17.0</td>\n",
       "      <td>25.013</td>\n",
       "      <td>...</td>\n",
       "      <td>17.0</td>\n",
       "      <td>25.013</td>\n",
       "      <td>121.459</td>\n",
       "      <td>17.0</td>\n",
       "      <td>25.013</td>\n",
       "      <td>121.459</td>\n",
       "      <td>17.0</td>\n",
       "      <td>22.689</td>\n",
       "      <td>120.333</td>\n",
       "      <td>33.0</td>\n",
       "    </tr>\n",
       "  </tbody>\n",
       "</table>\n",
       "<p>5 rows × 10458 columns</p>\n",
       "</div>"
      ],
      "text/plain": [
       "   0  1  2       3        4     5       6        7     8       9  ...  10448  \\\n",
       "0  1  1  0  25.013  121.459  17.0  25.013  121.459  17.0  25.013  ...   17.0   \n",
       "1  1  1  0  25.013  121.459  17.0  25.013  121.459  17.0  25.013  ...   17.0   \n",
       "2  1  1  0  25.013  121.459  17.0  25.013  121.459  17.0  25.013  ...   17.0   \n",
       "3  1  1  0  25.013  121.459  17.0  25.013  121.459  17.0  25.013  ...   17.0   \n",
       "4  1  1  0  25.013  121.459  17.0  25.013  121.459  17.0  25.013  ...   17.0   \n",
       "\n",
       "    10449    10450  10451   10452    10453  10454   10455    10456  10457  \n",
       "0  25.013  121.459   17.0  25.013  121.459   17.0  23.465  120.247   17.0  \n",
       "1  25.013  121.459   17.0  25.013  121.459   17.0  22.633  120.288   39.0  \n",
       "2  25.013  121.459   17.0  25.013  121.459   17.0  22.605  120.308   46.0  \n",
       "3  25.013  121.459   17.0  25.013  121.459   17.0  22.758  120.306   31.0  \n",
       "4  25.013  121.459   17.0  25.013  121.459   17.0  22.689  120.333   33.0  \n",
       "\n",
       "[5 rows x 10458 columns]"
      ]
     },
     "execution_count": 2,
     "metadata": {},
     "output_type": "execute_result"
    }
   ],
   "source": [
    "# 設定 data_path\n",
    "data_path = 'data/'\n",
    "train = pd.read_csv(data_path + 'training.csv')\n",
    "test = pd.read_csv(data_path + 'testing.csv')\n",
    "ids = test['id']\n",
    "# 讀取檔案\n",
    "train.head()"
   ]
  },
  {
   "cell_type": "code",
   "execution_count": 4,
   "metadata": {},
   "outputs": [
    {
     "name": "stdout",
     "output_type": "stream",
     "text": [
      "測試資料前(338016, 6)\n"
     ]
    }
   ],
   "source": [
    "# 拆分成三個一組\n",
    "columns=['0','region','height','Longitude','latitude','pm2.5']\n",
    "train_new = pd.DataFrame(columns=columns)\n",
    "for i in range(3,len(train.columns),3) :\n",
    "    df_temp = train.loc[:,['0','1','2',str(i) ,str(i+1) ,str(i+2)]]\n",
    "    df_temp.columns = columns\n",
    "    # 過濾重複資料\n",
    "    df_temp.drop_duplicates(inplace=True)\n",
    "    train_new = pd.concat([train_new,df_temp], ignore_index=True)\n",
    "print(f'測試資料前{train_new.shape}')\n",
    "#測試資料也加入\n",
    "# for i in range(3,len(test.columns)-3,3) :\n",
    "#     df_temp = test.loc[:,['1','2',str(i) ,str(i+1) ,str(i+2)]]\n",
    "#     df_temp.columns = columns\n",
    "#     # 過濾重複資料\n",
    "#     df_temp.drop_duplicates(inplace=True)\n",
    "#     train_new = pd.concat([train_new,df_temp], ignore_index=True)\n",
    "# print(f'測試資料後{train_new.shape}')"
   ]
  },
  {
   "cell_type": "code",
   "execution_count": null,
   "metadata": {},
   "outputs": [
    {
     "name": "stdout",
     "output_type": "stream",
     "text": [
      "      region  height  Longitude  latitude\n",
      "0          5       0     23.465   120.247\n",
      "1          5       0     22.633   120.288\n",
      "2          5       0     22.605   120.308\n",
      "3          5       0     22.758   120.306\n",
      "4          5       0     22.689   120.333\n",
      "...      ...     ...        ...       ...\n",
      "2659       7      23     24.152   120.641\n",
      "2660       7      23     25.062   121.527\n",
      "2661       7      23     24.741   121.089\n",
      "2662       7      23     23.756   120.677\n",
      "2663       7      23     22.675   120.293\n",
      "\n",
      "[2664 rows x 4 columns]\n"
     ]
    }
   ],
   "source": [
    "# 處理測試資料\n",
    "test = test.loc[:,['0','1','2','10455' , '10456']]\n",
    "test.columns = ['0','region','height','Longitude','latitude']\n",
    "print(test)"
   ]
  },
  {
   "cell_type": "code",
   "execution_count": 13,
   "metadata": {},
   "outputs": [],
   "source": [
    "train_new[\"region\"] = pd.to_numeric(train_new[\"region\"])\n",
    "train_new[\"height\"] = pd.to_numeric(train_new[\"height\"])"
   ]
  },
  {
   "cell_type": "code",
   "execution_count": 14,
   "metadata": {},
   "outputs": [
    {
     "data": {
      "image/png": "[encoded data removed]",
      "text/plain": [
       "<Figure size 432x288 with 1 Axes>"
      ]
     },
     "metadata": {
      "needs_background": "light"
     },
     "output_type": "display_data"
    }
   ],
   "source": [
    "sns.regplot(x = train_new['latitude'], y=train_new['pm2.5'])\n",
    "plt.show()"
   ]
  },
  {
   "cell_type": "code",
   "execution_count": 15,
   "metadata": {},
   "outputs": [
    {
     "data": {
      "image/png": "[encoded data removed]",
      "text/plain": [
       "<Figure size 432x288 with 1 Axes>"
      ]
     },
     "metadata": {
      "needs_background": "light"
     },
     "output_type": "display_data"
    }
   ],
   "source": [
    "# 調整離群值\n",
    "keep_indexs = (train_new['pm2.5'] < 50 ) & (train_new['pm2.5'] > 0 )\n",
    "train_new = train_new[keep_indexs]\n",
    "sns.regplot(x = train_new['latitude'], y=train_new['pm2.5'])\n",
    "plt.show()"
   ]
  },
  {
   "cell_type": "code",
   "execution_count": 16,
   "metadata": {},
   "outputs": [
    {
     "data": {
      "image/png": "[encoded data removed]",
      "text/plain": [
       "<Figure size 432x288 with 1 Axes>"
      ]
     },
     "metadata": {
      "needs_background": "light"
     },
     "output_type": "display_data"
    }
   ],
   "source": [
    "sns.regplot(x = train_new['Longitude'], y=train_new['pm2.5'])\n",
    "plt.show()"
   ]
  },
  {
   "cell_type": "code",
   "execution_count": 17,
   "metadata": {},
   "outputs": [
    {
     "name": "stdout",
     "output_type": "stream",
     "text": [
      "        0  region  height  Longitude  latitude\n",
      "283743  1       3      15     24.066   120.542\n",
      "328925  1       2       5     25.069   121.481\n",
      "2598    1       1       6     25.013   121.459\n",
      "61153   1       1       1     25.013   121.459\n",
      "15724   1       4       4     22.523   120.561\n",
      "...    ..     ...     ...        ...       ...\n",
      "107578  1       3      10     24.066   120.542\n",
      "94601   1       2      17     25.069   121.481\n",
      "115144  1       2      16     25.069   121.481\n",
      "129384  1       4       0     22.523   120.561\n",
      "120705  1       2       9     25.069   121.481\n",
      "\n",
      "[253509 rows x 5 columns]\n"
     ]
    }
   ],
   "source": [
    "# 切分訓練集/測試集\n",
    "target = train_new['pm2.5']\n",
    "train_split = train_new.drop(['pm2.5'], axis=1)\n",
    "x_train, x_test, y_train, y_test = train_test_split(train_split, target, test_size=0.25, random_state=4)\n",
    "\n",
    "print(x_train)"
   ]
  },
  {
   "cell_type": "code",
   "execution_count": 18,
   "metadata": {},
   "outputs": [],
   "source": [
    "rf = RandomForestRegressor(n_estimators=300, min_samples_split=9, min_samples_leaf=10, \n",
    "                           max_features='sqrt', max_depth=8, bootstrap=False)\n",
    "gdbt = GradientBoostingRegressor(tol=0.1, subsample=0.37, n_estimators=200, max_features=20, \n",
    "        max_depth=6, learning_rate=0.03)"
   ]
  },
  {
   "cell_type": "code",
   "execution_count": 19,
   "metadata": {},
   "outputs": [],
   "source": [
    "cv_params = {\"tol\" : np.linspace(0.01,0.5,10),\"subsample\":np.linspace(0.01,0.5,10) , \"n_estimators\": range(200,800,50) , \"max_features\" : range(10,20,1) , \"max_depth\" : range(1,10,1),\"learning_rate\" : np.linspace(0.01,2,20)}\n",
    "other_params = {\"tol\": \"0.1\", \"subsample\": \"0.37\", \"n_estimators\": \"200\", \"max_features\": \"20\", \"max_depth\": \"6\", \"learning_rate\": \"0.03\"}\n",
    "gdbt = GradientBoostingRegressor(**other_params)\n",
    "optimized_GBM = RandomizedSearchCV(estimator=gdbt, param_distributions = cv_params, scoring='neg_log_loss', n_iter=300, cv=5, n_jobs=4)\n",
    "optimized_GBM.fit(x_train, y_train)\n",
    "evalute_result = optimized_GBM.cv_results_\n",
    "print('每輪结果:{0}'.format(evalute_result))\n",
    "print('参数的最佳取值：{0}'.format(optimized_GBM.best_params_))\n",
    "print('最佳模型得分:{0}'.format(optimized_GBM.best_score_))"
   ]
  },
  {
   "cell_type": "code",
   "execution_count": null,
   "metadata": {},
   "outputs": [],
   "source": [
    "# 梯度提升機預測檔 \n",
    "gdbt.fit(x_train, y_train)\n",
    "gdbt_pred = gdbt.predict(x_test)\n",
    "# sub = pd.DataFrame({'id': ids, 'pm2.5': np.round(gdbt_pred)})\n",
    "# sub.to_csv('728rf.csv', index=False)"
   ]
  },
  {
   "cell_type": "code",
   "execution_count": null,
   "metadata": {},
   "outputs": [
    {
     "ename": "ValueError",
     "evalue": "array length 147215 does not match index length 2664",
     "output_type": "error",
     "traceback": [
      "\u001b[1;31m---------------------------------------------------------------------------\u001b[0m",
      "\u001b[1;31mValueError\u001b[0m                                Traceback (most recent call last)",
      "\u001b[1;32mc:\\Users\\test\\Desktop\\file\\tech\\機器學習\\學校作業\\學校作業.ipynb Cell 11\u001b[0m in \u001b[0;36m<cell line: 4>\u001b[1;34m()\u001b[0m\n\u001b[0;32m      <a href='vscode-notebook-cell:/c%3A/Users/test/Desktop/file/tech/%E6%A9%9F%E5%99%A8%E5%AD%B8%E7%BF%92/%E5%AD%B8%E6%A0%A1%E4%BD%9C%E6%A5%AD/%E5%AD%B8%E6%A0%A1%E4%BD%9C%E6%A5%AD.ipynb#ch0000011?line=1'>2</a>\u001b[0m rf\u001b[39m.\u001b[39mfit(x_train, y_train)\n\u001b[0;32m      <a href='vscode-notebook-cell:/c%3A/Users/test/Desktop/file/tech/%E6%A9%9F%E5%99%A8%E5%AD%B8%E7%BF%92/%E5%AD%B8%E6%A0%A1%E4%BD%9C%E6%A5%AD/%E5%AD%B8%E6%A0%A1%E4%BD%9C%E6%A5%AD.ipynb#ch0000011?line=2'>3</a>\u001b[0m rf_pred \u001b[39m=\u001b[39m rf\u001b[39m.\u001b[39mpredict(x_test)\n\u001b[1;32m----> <a href='vscode-notebook-cell:/c%3A/Users/test/Desktop/file/tech/%E6%A9%9F%E5%99%A8%E5%AD%B8%E7%BF%92/%E5%AD%B8%E6%A0%A1%E4%BD%9C%E6%A5%AD/%E5%AD%B8%E6%A0%A1%E4%BD%9C%E6%A5%AD.ipynb#ch0000011?line=3'>4</a>\u001b[0m sub \u001b[39m=\u001b[39m pd\u001b[39m.\u001b[39;49mDataFrame({\u001b[39m'\u001b[39;49m\u001b[39mid\u001b[39;49m\u001b[39m'\u001b[39;49m: ids, \u001b[39m'\u001b[39;49m\u001b[39mpm2.5\u001b[39;49m\u001b[39m'\u001b[39;49m: np\u001b[39m.\u001b[39;49mround(rf_pred)})\n\u001b[0;32m      <a href='vscode-notebook-cell:/c%3A/Users/test/Desktop/file/tech/%E6%A9%9F%E5%99%A8%E5%AD%B8%E7%BF%92/%E5%AD%B8%E6%A0%A1%E4%BD%9C%E6%A5%AD/%E5%AD%B8%E6%A0%A1%E4%BD%9C%E6%A5%AD.ipynb#ch0000011?line=4'>5</a>\u001b[0m sub\u001b[39m.\u001b[39mto_csv(\u001b[39m'\u001b[39m\u001b[39m728rf.csv\u001b[39m\u001b[39m'\u001b[39m, index\u001b[39m=\u001b[39m\u001b[39mFalse\u001b[39;00m)\n",
      "File \u001b[1;32mc:\\Users\\test\\AppData\\Local\\Programs\\Python\\Python38\\lib\\site-packages\\pandas\\core\\frame.py:636\u001b[0m, in \u001b[0;36mDataFrame.__init__\u001b[1;34m(self, data, index, columns, dtype, copy)\u001b[0m\n\u001b[0;32m    630\u001b[0m     mgr \u001b[39m=\u001b[39m \u001b[39mself\u001b[39m\u001b[39m.\u001b[39m_init_mgr(\n\u001b[0;32m    631\u001b[0m         data, axes\u001b[39m=\u001b[39m{\u001b[39m\"\u001b[39m\u001b[39mindex\u001b[39m\u001b[39m\"\u001b[39m: index, \u001b[39m\"\u001b[39m\u001b[39mcolumns\u001b[39m\u001b[39m\"\u001b[39m: columns}, dtype\u001b[39m=\u001b[39mdtype, copy\u001b[39m=\u001b[39mcopy\n\u001b[0;32m    632\u001b[0m     )\n\u001b[0;32m    634\u001b[0m \u001b[39melif\u001b[39;00m \u001b[39misinstance\u001b[39m(data, \u001b[39mdict\u001b[39m):\n\u001b[0;32m    635\u001b[0m     \u001b[39m# GH#38939 de facto copy defaults to False only in non-dict cases\u001b[39;00m\n\u001b[1;32m--> 636\u001b[0m     mgr \u001b[39m=\u001b[39m dict_to_mgr(data, index, columns, dtype\u001b[39m=\u001b[39;49mdtype, copy\u001b[39m=\u001b[39;49mcopy, typ\u001b[39m=\u001b[39;49mmanager)\n\u001b[0;32m    637\u001b[0m \u001b[39melif\u001b[39;00m \u001b[39misinstance\u001b[39m(data, ma\u001b[39m.\u001b[39mMaskedArray):\n\u001b[0;32m    638\u001b[0m     \u001b[39mimport\u001b[39;00m \u001b[39mnumpy\u001b[39;00m\u001b[39m.\u001b[39;00m\u001b[39mma\u001b[39;00m\u001b[39m.\u001b[39;00m\u001b[39mmrecords\u001b[39;00m \u001b[39mas\u001b[39;00m \u001b[39mmrecords\u001b[39;00m\n",
      "File \u001b[1;32mc:\\Users\\test\\AppData\\Local\\Programs\\Python\\Python38\\lib\\site-packages\\pandas\\core\\internals\\construction.py:502\u001b[0m, in \u001b[0;36mdict_to_mgr\u001b[1;34m(data, index, columns, dtype, typ, copy)\u001b[0m\n\u001b[0;32m    494\u001b[0m     arrays \u001b[39m=\u001b[39m [\n\u001b[0;32m    495\u001b[0m         x\n\u001b[0;32m    496\u001b[0m         \u001b[39mif\u001b[39;00m \u001b[39mnot\u001b[39;00m \u001b[39mhasattr\u001b[39m(x, \u001b[39m\"\u001b[39m\u001b[39mdtype\u001b[39m\u001b[39m\"\u001b[39m) \u001b[39mor\u001b[39;00m \u001b[39mnot\u001b[39;00m \u001b[39misinstance\u001b[39m(x\u001b[39m.\u001b[39mdtype, ExtensionDtype)\n\u001b[0;32m    497\u001b[0m         \u001b[39melse\u001b[39;00m x\u001b[39m.\u001b[39mcopy()\n\u001b[0;32m    498\u001b[0m         \u001b[39mfor\u001b[39;00m x \u001b[39min\u001b[39;00m arrays\n\u001b[0;32m    499\u001b[0m     ]\n\u001b[0;32m    500\u001b[0m     \u001b[39m# TODO: can we get rid of the dt64tz special case above?\u001b[39;00m\n\u001b[1;32m--> 502\u001b[0m \u001b[39mreturn\u001b[39;00m arrays_to_mgr(arrays, columns, index, dtype\u001b[39m=\u001b[39;49mdtype, typ\u001b[39m=\u001b[39;49mtyp, consolidate\u001b[39m=\u001b[39;49mcopy)\n",
      "File \u001b[1;32mc:\\Users\\test\\AppData\\Local\\Programs\\Python\\Python38\\lib\\site-packages\\pandas\\core\\internals\\construction.py:120\u001b[0m, in \u001b[0;36marrays_to_mgr\u001b[1;34m(arrays, columns, index, dtype, verify_integrity, typ, consolidate)\u001b[0m\n\u001b[0;32m    117\u001b[0m \u001b[39mif\u001b[39;00m verify_integrity:\n\u001b[0;32m    118\u001b[0m     \u001b[39m# figure out the index, if necessary\u001b[39;00m\n\u001b[0;32m    119\u001b[0m     \u001b[39mif\u001b[39;00m index \u001b[39mis\u001b[39;00m \u001b[39mNone\u001b[39;00m:\n\u001b[1;32m--> 120\u001b[0m         index \u001b[39m=\u001b[39m _extract_index(arrays)\n\u001b[0;32m    121\u001b[0m     \u001b[39melse\u001b[39;00m:\n\u001b[0;32m    122\u001b[0m         index \u001b[39m=\u001b[39m ensure_index(index)\n",
      "File \u001b[1;32mc:\\Users\\test\\AppData\\Local\\Programs\\Python\\Python38\\lib\\site-packages\\pandas\\core\\internals\\construction.py:688\u001b[0m, in \u001b[0;36m_extract_index\u001b[1;34m(data)\u001b[0m\n\u001b[0;32m    683\u001b[0m     \u001b[39mif\u001b[39;00m lengths[\u001b[39m0\u001b[39m] \u001b[39m!=\u001b[39m \u001b[39mlen\u001b[39m(index):\n\u001b[0;32m    684\u001b[0m         msg \u001b[39m=\u001b[39m (\n\u001b[0;32m    685\u001b[0m             \u001b[39mf\u001b[39m\u001b[39m\"\u001b[39m\u001b[39marray length \u001b[39m\u001b[39m{\u001b[39;00mlengths[\u001b[39m0\u001b[39m]\u001b[39m}\u001b[39;00m\u001b[39m does not match index \u001b[39m\u001b[39m\"\u001b[39m\n\u001b[0;32m    686\u001b[0m             \u001b[39mf\u001b[39m\u001b[39m\"\u001b[39m\u001b[39mlength \u001b[39m\u001b[39m{\u001b[39;00m\u001b[39mlen\u001b[39m(index)\u001b[39m}\u001b[39;00m\u001b[39m\"\u001b[39m\n\u001b[0;32m    687\u001b[0m         )\n\u001b[1;32m--> 688\u001b[0m         \u001b[39mraise\u001b[39;00m \u001b[39mValueError\u001b[39;00m(msg)\n\u001b[0;32m    689\u001b[0m \u001b[39melse\u001b[39;00m:\n\u001b[0;32m    690\u001b[0m     index \u001b[39m=\u001b[39m default_index(lengths[\u001b[39m0\u001b[39m])\n",
      "\u001b[1;31mValueError\u001b[0m: array length 147215 does not match index length 2664"
     ]
    }
   ],
   "source": [
    "# 隨機森林預測檔\n",
    "rf.fit(x_train, y_train)\n",
    "rf_pred = rf.predict(x_test)\n",
    "# sub = pd.DataFrame({'id': ids, 'pm2.5': np.round(rf_pred)})\n",
    "# sub.to_csv('728rf.csv', index=False)"
   ]
  },
  {
   "cell_type": "code",
   "execution_count": null,
   "metadata": {},
   "outputs": [
    {
     "name": "stdout",
     "output_type": "stream",
     "text": [
      "1.9671349740897566\n"
     ]
    }
   ],
   "source": [
    "print(mean_squared_error(y_test, rf_pred))"
   ]
  },
  {
   "cell_type": "code",
   "execution_count": null,
   "metadata": {},
   "outputs": [
    {
     "name": "stdout",
     "output_type": "stream",
     "text": [
      "[12.55126036 22.88516391 12.55126036 ... 16.70529079  9.54111678\n",
      " 23.80989597]\n"
     ]
    }
   ],
   "source": [
    "print(rf_pred)"
   ]
  },
  {
   "cell_type": "code",
   "execution_count": null,
   "metadata": {},
   "outputs": [],
   "source": [
    "# from ctypes.wintypes import tagRECT\n",
    "# import xgboost as xgb\n",
    "\n",
    "# # 建立 XGBRegressor 模型\n",
    "# cv_params = {'max_depth': [3, 4, 5, 6, 7, 8, 9, 10], 'min_child_weight': [1, 2, 3, 4, 5, 6]}\n",
    "# other_params = {'learning_rate': 0.07, 'n_estimators': 650, 'max_depth': 7, 'min_child_weight': 6, 'seed': 0,\n",
    "#                     'subsample': 0.6, 'colsample_bytree': 0.8, 'gamma': 0.1, 'reg_alpha': 3, 'reg_lambda': 1}\n",
    "# xgbrModel = xgb.XGBRegressor(**other_params)\n",
    "# # 使用訓練資料訓練模型\n",
    "# xgbrModel.fit(train_split, target)\n",
    "# # 使用test資料預測\n",
    "# predicted=xgbrModel.predict(test)\n",
    "# sub = pd.DataFrame({'id': ids, 'pm2.5': np.round(predicted)})\n",
    "# sub.to_csv('727.csv', index=False) \n",
    "\n",
    "# optimized_GBM = GridSearchCV(estimator=xgbrModel, param_grid=cv_params, scoring='r2', cv=5, verbose=1, n_jobs=4)\n",
    "# optimized_GBM.fit(x_train, y_train)\n",
    "# evalute_result = optimized_GBM.cv_results_\n",
    "# print('每輪结果:{0}'.format(evalute_result))\n",
    "# print('参数的最佳取值：{0}'.format(optimized_GBM.best_params_))\n",
    "# print('最佳模型得分:{0}'.format(optimized_GBM.best_score_))"
   ]
  },
  {
   "cell_type": "code",
   "execution_count": null,
   "metadata": {},
   "outputs": [],
   "source": []
  }
 ],
 "metadata": {
  "kernelspec": {
   "display_name": "Python 3.8.4 64-bit",
   "language": "python",
   "name": "python3"
  },
  "language_info": {
   "codemirror_mode": {
    "name": "ipython",
    "version": 3
   },
   "file_extension": ".py",
   "mimetype": "text/x-python",
   "name": "python",
   "nbconvert_exporter": "python",
   "pygments_lexer": "ipython3",
   "version": "3.8.4"
  },
  "vscode": {
   "interpreter": {
    "hash": "205595cd1daa4a192140885c104c4ea416cf31c31e44558713cd0df72bb67f19"
   }
  }
 },
 "nbformat": 4,
 "nbformat_minor": 2
}
