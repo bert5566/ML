{
 "cells": [
  {
   "cell_type": "code",
   "execution_count": 3,
   "metadata": {},
   "outputs": [],
   "source": [
    "# 載入基本套件\n",
    "import pandas as pd\n",
    "import numpy as np\n",
    "import copy\n",
    "import seaborn as sns\n",
    "import matplotlib.pyplot as plt\n",
    "from sklearn.preprocessing import MinMaxScaler\n",
    "from sklearn.model_selection import cross_val_score\n",
    "from sklearn.ensemble import RandomForestRegressor\n",
    "from sklearn.model_selection import train_test_split\n",
    "from sklearn.model_selection import GridSearchCV , RandomizedSearchCV\n",
    "from sklearn.ensemble import GradientBoostingRegressor\n",
    "from sklearn.metrics import mean_squared_error"
   ]
  },
  {
   "cell_type": "code",
   "execution_count": 1,
   "metadata": {},
   "outputs": [],
   "source": [
    "import tensorflow\n",
    "import keras"
   ]
  },
  {
   "cell_type": "code",
   "execution_count": 112,
   "metadata": {},
   "outputs": [
    {
     "name": "stdout",
     "output_type": "stream",
     "text": [
      "   index  a  b  c  d\n",
      "0      0  2  1  1  1\n",
      "1      1  1  1  1  1\n",
      "2      3  1  1  1  0\n",
      "0    False\n",
      "1    False\n",
      "2    False\n",
      "dtype: bool\n"
     ]
    }
   ],
   "source": [
    "aaa = pd.DataFrame({'a':[2,1,1,1] , 'b':[1,1,1,1],'c':[1,1,1,1],'d':[1,1,1,0]})\n",
    "aaa.drop_duplicates(inplace=True)\n",
    "aaa.reset_index(inplace=True)\n",
    "print(aaa)\n",
    "print(aaa.duplicated())"
   ]
  },
  {
   "cell_type": "code",
   "execution_count": 57,
   "metadata": {},
   "outputs": [
    {
     "data": {
      "text/html": [
       "<div>\n",
       "<style scoped>\n",
       "    .dataframe tbody tr th:only-of-type {\n",
       "        vertical-align: middle;\n",
       "    }\n",
       "\n",
       "    .dataframe tbody tr th {\n",
       "        vertical-align: top;\n",
       "    }\n",
       "\n",
       "    .dataframe thead th {\n",
       "        text-align: right;\n",
       "    }\n",
       "</style>\n",
       "<table border=\"1\" class=\"dataframe\">\n",
       "  <thead>\n",
       "    <tr style=\"text-align: right;\">\n",
       "      <th></th>\n",
       "      <th>0</th>\n",
       "      <th>1</th>\n",
       "      <th>2</th>\n",
       "      <th>3</th>\n",
       "      <th>4</th>\n",
       "      <th>5</th>\n",
       "      <th>6</th>\n",
       "      <th>7</th>\n",
       "      <th>8</th>\n",
       "      <th>9</th>\n",
       "      <th>...</th>\n",
       "      <th>10448</th>\n",
       "      <th>10449</th>\n",
       "      <th>10450</th>\n",
       "      <th>10451</th>\n",
       "      <th>10452</th>\n",
       "      <th>10453</th>\n",
       "      <th>10454</th>\n",
       "      <th>10455</th>\n",
       "      <th>10456</th>\n",
       "      <th>10457</th>\n",
       "    </tr>\n",
       "  </thead>\n",
       "  <tbody>\n",
       "    <tr>\n",
       "      <th>0</th>\n",
       "      <td>1</td>\n",
       "      <td>1</td>\n",
       "      <td>0</td>\n",
       "      <td>23.048</td>\n",
       "      <td>120.218</td>\n",
       "      <td>24.0</td>\n",
       "      <td>25.013</td>\n",
       "      <td>121.459</td>\n",
       "      <td>17.0</td>\n",
       "      <td>25.069</td>\n",
       "      <td>...</td>\n",
       "      <td>33.959</td>\n",
       "      <td>25.156</td>\n",
       "      <td>121.407</td>\n",
       "      <td>9.246</td>\n",
       "      <td>22.587</td>\n",
       "      <td>120.434</td>\n",
       "      <td>21.983</td>\n",
       "      <td>23.465</td>\n",
       "      <td>120.247</td>\n",
       "      <td>17.0</td>\n",
       "    </tr>\n",
       "    <tr>\n",
       "      <th>1</th>\n",
       "      <td>1</td>\n",
       "      <td>1</td>\n",
       "      <td>0</td>\n",
       "      <td>23.048</td>\n",
       "      <td>120.218</td>\n",
       "      <td>24.0</td>\n",
       "      <td>25.013</td>\n",
       "      <td>121.459</td>\n",
       "      <td>17.0</td>\n",
       "      <td>25.069</td>\n",
       "      <td>...</td>\n",
       "      <td>33.959</td>\n",
       "      <td>25.156</td>\n",
       "      <td>121.407</td>\n",
       "      <td>9.246</td>\n",
       "      <td>22.587</td>\n",
       "      <td>120.434</td>\n",
       "      <td>21.983</td>\n",
       "      <td>22.633</td>\n",
       "      <td>120.288</td>\n",
       "      <td>39.0</td>\n",
       "    </tr>\n",
       "    <tr>\n",
       "      <th>2</th>\n",
       "      <td>1</td>\n",
       "      <td>1</td>\n",
       "      <td>0</td>\n",
       "      <td>23.048</td>\n",
       "      <td>120.218</td>\n",
       "      <td>24.0</td>\n",
       "      <td>25.013</td>\n",
       "      <td>121.459</td>\n",
       "      <td>17.0</td>\n",
       "      <td>25.069</td>\n",
       "      <td>...</td>\n",
       "      <td>33.959</td>\n",
       "      <td>25.156</td>\n",
       "      <td>121.407</td>\n",
       "      <td>9.246</td>\n",
       "      <td>22.587</td>\n",
       "      <td>120.434</td>\n",
       "      <td>21.983</td>\n",
       "      <td>22.605</td>\n",
       "      <td>120.308</td>\n",
       "      <td>46.0</td>\n",
       "    </tr>\n",
       "    <tr>\n",
       "      <th>3</th>\n",
       "      <td>1</td>\n",
       "      <td>1</td>\n",
       "      <td>0</td>\n",
       "      <td>23.048</td>\n",
       "      <td>120.218</td>\n",
       "      <td>24.0</td>\n",
       "      <td>25.013</td>\n",
       "      <td>121.459</td>\n",
       "      <td>17.0</td>\n",
       "      <td>25.069</td>\n",
       "      <td>...</td>\n",
       "      <td>33.959</td>\n",
       "      <td>25.156</td>\n",
       "      <td>121.407</td>\n",
       "      <td>9.246</td>\n",
       "      <td>22.587</td>\n",
       "      <td>120.434</td>\n",
       "      <td>21.983</td>\n",
       "      <td>22.758</td>\n",
       "      <td>120.306</td>\n",
       "      <td>31.0</td>\n",
       "    </tr>\n",
       "    <tr>\n",
       "      <th>4</th>\n",
       "      <td>1</td>\n",
       "      <td>1</td>\n",
       "      <td>0</td>\n",
       "      <td>23.048</td>\n",
       "      <td>120.218</td>\n",
       "      <td>24.0</td>\n",
       "      <td>25.013</td>\n",
       "      <td>121.459</td>\n",
       "      <td>17.0</td>\n",
       "      <td>25.069</td>\n",
       "      <td>...</td>\n",
       "      <td>33.959</td>\n",
       "      <td>25.156</td>\n",
       "      <td>121.407</td>\n",
       "      <td>9.246</td>\n",
       "      <td>22.587</td>\n",
       "      <td>120.434</td>\n",
       "      <td>21.983</td>\n",
       "      <td>22.689</td>\n",
       "      <td>120.333</td>\n",
       "      <td>33.0</td>\n",
       "    </tr>\n",
       "  </tbody>\n",
       "</table>\n",
       "<p>5 rows × 10458 columns</p>\n",
       "</div>"
      ],
      "text/plain": [
       "   0  1  2       3        4     5       6        7     8       9  ...   10448  \\\n",
       "0  1  1  0  23.048  120.218  24.0  25.013  121.459  17.0  25.069  ...  33.959   \n",
       "1  1  1  0  23.048  120.218  24.0  25.013  121.459  17.0  25.069  ...  33.959   \n",
       "2  1  1  0  23.048  120.218  24.0  25.013  121.459  17.0  25.069  ...  33.959   \n",
       "3  1  1  0  23.048  120.218  24.0  25.013  121.459  17.0  25.069  ...  33.959   \n",
       "4  1  1  0  23.048  120.218  24.0  25.013  121.459  17.0  25.069  ...  33.959   \n",
       "\n",
       "    10449    10450  10451   10452    10453   10454   10455    10456  10457  \n",
       "0  25.156  121.407  9.246  22.587  120.434  21.983  23.465  120.247   17.0  \n",
       "1  25.156  121.407  9.246  22.587  120.434  21.983  22.633  120.288   39.0  \n",
       "2  25.156  121.407  9.246  22.587  120.434  21.983  22.605  120.308   46.0  \n",
       "3  25.156  121.407  9.246  22.587  120.434  21.983  22.758  120.306   31.0  \n",
       "4  25.156  121.407  9.246  22.587  120.434  21.983  22.689  120.333   33.0  \n",
       "\n",
       "[5 rows x 10458 columns]"
      ]
     },
     "execution_count": 57,
     "metadata": {},
     "output_type": "execute_result"
    }
   ],
   "source": [
    "# 設定 data_path\n",
    "data_path = 'data/'\n",
    "train = pd.read_csv(data_path + 'training.csv')\n",
    "test = pd.read_csv(data_path + 'testing.csv')\n",
    "ids = test['id']\n",
    "# 讀取檔案\n",
    "train.head()"
   ]
  },
  {
   "cell_type": "code",
   "execution_count": 128,
   "metadata": {},
   "outputs": [
    {
     "data": {
      "text/plain": [
       "(3552, 10458)"
      ]
     },
     "execution_count": 128,
     "metadata": {},
     "output_type": "execute_result"
    }
   ],
   "source": [
    "train.shape"
   ]
  },
  {
   "cell_type": "code",
   "execution_count": 74,
   "metadata": {},
   "outputs": [],
   "source": [
    "# 拆分成三個一組 \n",
    "# \"0\": 月份\n",
    "# \"1\": 日期\n",
    "# \"2\": 小時\n",
    "columns=['date','hour','latitude','Longitude','pm2.5']\n",
    "def refactor_data(origin_data , refactor_data , length):\n",
    "    for i in range(3,length,3) :\n",
    "        df_temp = train.loc[:,['1','2',str(i) ,str(i+1) ,str(i+2)]]\n",
    "    # 過濾重複資料\n",
    "        df_temp.columns = columns\n",
    "        df_temp.drop_duplicates(inplace=True)\n",
    "        refactor_data = pd.concat([refactor_data,df_temp], ignore_index=True)\n",
    "    return refactor_data"
   ]
  },
  {
   "cell_type": "code",
   "execution_count": 135,
   "metadata": {},
   "outputs": [
    {
     "name": "stdout",
     "output_type": "stream",
     "text": [
      "None\n"
     ]
    }
   ],
   "source": [
    "df_temp = train.loc[:,['1','2','3' ,'4' ,'5']]\n",
    "df_temp = df_temp.drop_duplicates(keep='first',inplace=True)\n",
    "print(df_temp)"
   ]
  },
  {
   "cell_type": "code",
   "execution_count": 75,
   "metadata": {},
   "outputs": [
    {
     "name": "stdout",
     "output_type": "stream",
     "text": [
      "加入測試資料前(12378720, 5)\n",
      "加入測試資料後(24753888, 5)\n"
     ]
    }
   ],
   "source": [
    "train_data = pd.DataFrame(columns=columns)\n",
    "train_data = refactor_data(train,train_data ,len(train.columns)+1)\n",
    "print(f'加入測試資料前{train_data.shape}')\n",
    "train_data = refactor_data(test,train_data ,len(test.columns) -3 ) # 最後兩筆保留預測\n",
    "print(f'加入測試資料後{train_data.shape}')"
   ]
  },
  {
   "cell_type": "code",
   "execution_count": 118,
   "metadata": {},
   "outputs": [
    {
     "data": {
      "text/plain": [
       "2    84500\n",
       "3    84498\n",
       "4    84471\n",
       "1    84431\n",
       "Name: date, dtype: int64"
      ]
     },
     "execution_count": 118,
     "metadata": {},
     "output_type": "execute_result"
    }
   ],
   "source": []
  },
  {
   "cell_type": "code",
   "execution_count": null,
   "metadata": {},
   "outputs": [],
   "source": []
  },
  {
   "cell_type": "code",
   "execution_count": 60,
   "metadata": {},
   "outputs": [
    {
     "name": "stdout",
     "output_type": "stream",
     "text": [
      "      date  hour  latitude  Longitude\n",
      "0        5     0    23.465    120.247\n",
      "1        5     0    22.633    120.288\n",
      "2        5     0    22.605    120.308\n",
      "3        5     0    22.758    120.306\n",
      "4        5     0    22.689    120.333\n",
      "...    ...   ...       ...        ...\n",
      "2659     7    23    24.152    120.641\n",
      "2660     7    23    25.062    121.527\n",
      "2661     7    23    24.741    121.089\n",
      "2662     7    23    23.756    120.677\n",
      "2663     7    23    22.675    120.293\n",
      "\n",
      "[2664 rows x 4 columns]\n"
     ]
    }
   ],
   "source": [
    "# 處理要預測資料\n",
    "test_data = test.loc[:,['1','2','10455' , '10456']]\n",
    "test_data.columns = ['date','hour','latitude','Longitude']\n",
    "print(test_data)"
   ]
  },
  {
   "cell_type": "code",
   "execution_count": 21,
   "metadata": {},
   "outputs": [],
   "source": [
    "train_new[\"date\"] = pd.to_numeric(train_new[\"date\"])\n",
    "train_new[\"hour\"] = pd.to_numeric(train_new[\"hour\"])"
   ]
  },
  {
   "cell_type": "code",
   "execution_count": 22,
   "metadata": {},
   "outputs": [
    {
     "data": {
      "image/png": "[encoded data removed]",
      "text/plain": [
       "<Figure size 432x288 with 1 Axes>"
      ]
     },
     "metadata": {
      "needs_background": "light"
     },
     "output_type": "display_data"
    }
   ],
   "source": [
    "# 緯度跟pm關係\n",
    "sns.regplot(x = train_new['latitude'], y=train_new['pm2.5'])\n",
    "plt.show()"
   ]
  },
  {
   "cell_type": "code",
   "execution_count": 23,
   "metadata": {},
   "outputs": [
    {
     "data": {
      "image/png": "[encoded data removed]",
      "text/plain": [
       "<Figure size 432x288 with 1 Axes>"
      ]
     },
     "metadata": {
      "needs_background": "light"
     },
     "output_type": "display_data"
    }
   ],
   "source": [
    "# 經度度跟pm關係\n",
    "sns.regplot(x = train_new['Longitude'], y=train_new['pm2.5'])\n",
    "plt.show() "
   ]
  },
  {
   "cell_type": "code",
   "execution_count": 24,
   "metadata": {},
   "outputs": [
    {
     "data": {
      "image/png": "[encoded data removed]",
      "text/plain": [
       "<Figure size 432x288 with 1 Axes>"
      ]
     },
     "metadata": {
      "needs_background": "light"
     },
     "output_type": "display_data"
    }
   ],
   "source": [
    "# 日期跟pm關係\n",
    "sns.regplot(x = train_new['date'], y=train_new['pm2.5'])\n",
    "plt.show()"
   ]
  },
  {
   "cell_type": "code",
   "execution_count": 25,
   "metadata": {},
   "outputs": [
    {
     "data": {
      "image/png": "[encoded data removed]",
      "text/plain": [
       "<Figure size 432x288 with 1 Axes>"
      ]
     },
     "metadata": {
      "needs_background": "light"
     },
     "output_type": "display_data"
    }
   ],
   "source": [
    "# 小時跟pm關係\n",
    "sns.regplot(x = train_new['hour'], y=train_new['pm2.5'])\n",
    "plt.show()"
   ]
  },
  {
   "cell_type": "code",
   "execution_count": 93,
   "metadata": {},
   "outputs": [
    {
     "data": {
      "image/png": "[encoded data removed]",
      "text/plain": [
       "<Figure size 432x288 with 1 Axes>"
      ]
     },
     "metadata": {
      "needs_background": "light"
     },
     "output_type": "display_data"
    }
   ],
   "source": [
    "# 調整離群值\n",
    "keep_indexs = (train_new['pm2.5'] < 50 ) & (train_new['pm2.5'] > 0 )\n",
    "train_new = train_new[keep_indexs]\n",
    "sns.regplot(x = train_new['latitude'], y=train_new['pm2.5'])\n",
    "plt.show()"
   ]
  },
  {
   "cell_type": "code",
   "execution_count": 94,
   "metadata": {},
   "outputs": [
    {
     "data": {
      "image/png": "[encoded data removed]",
      "text/plain": [
       "<Figure size 432x288 with 1 Axes>"
      ]
     },
     "metadata": {
      "needs_background": "light"
     },
     "output_type": "display_data"
    }
   ],
   "source": [
    "sns.regplot(x = train_new['height'], y=train_new['pm2.5'])\n",
    "plt.show()"
   ]
  },
  {
   "cell_type": "code",
   "execution_count": 108,
   "metadata": {},
   "outputs": [],
   "source": [
    "# 切分訓練集/測試集\n",
    "target = train_new['pm2.5']\n",
    "train_split = train_new.drop(['pm2.5'], axis=1)\n",
    "x_train, x_test, y_train, y_test = train_test_split(train_split, target, test_size=0.25, random_state=4)"
   ]
  },
  {
   "cell_type": "code",
   "execution_count": 117,
   "metadata": {},
   "outputs": [],
   "source": [
    "rf = RandomForestRegressor(n_estimators=300, min_samples_split=9, min_samples_leaf=10, \n",
    "                           max_features='sqrt', max_depth=8, bootstrap=False)\n",
    "gdbt = GradientBoostingRegressor(tol=0.1, subsample=0.37, n_estimators=200, max_features=20, \n",
    "        max_depth=6, learning_rate=0.03)\n",
    "gdbt.fit(train_split, target)\n",
    "# 使用test資料預測\n",
    "predictedgdbt=gdbt.predict(test)\n"
   ]
  },
  {
   "cell_type": "code",
   "execution_count": null,
   "metadata": {},
   "outputs": [],
   "source": [
    "loss = ['ls', 'lad', 'huber']\n",
    "n_estimators = [300, 500, 600, 800]\n",
    "max_depth = [2, 3, 5, 10, 15]\n",
    "min_samples_leaf = [ 6, 8 , 10] \n",
    "min_samples_split = [2, 4, 6, 10]\n",
    "max_features = ['auto', 'sqrt', 'log2', None]\n",
    "\n",
    "# Define the grid of hyperparameters to search\n",
    "hyperparameter_grid = {'loss': loss,\n",
    "    'n_estimators': n_estimators,\n",
    "    'max_depth': max_depth,\n",
    "    'min_samples_leaf': min_samples_leaf,\n",
    "    'min_samples_split': min_samples_split,\n",
    "    'max_features': max_features}\n",
    "\n",
    "# Set up the random search with 4-fold cross validation\n",
    "random_cv = RandomizedSearchCV(estimator=gradientboost,\n",
    "            param_distributions=hyperparameter_grid,\n",
    "            cv=4, n_iter=50,\n",
    "            scoring = 'neg_mean_absolute_error',\n",
    "            verbose = 5, \n",
    "            random_state=42)\n",
    "random_cv.fit(x_train,y_train)\n",
    "\n",
    "print(random_cv.best_estimator_)\n",
    "print(random_cv.best_score_)"
   ]
  },
  {
   "cell_type": "code",
   "execution_count": 123,
   "metadata": {},
   "outputs": [],
   "source": [
    "sub = pd.DataFrame({\"id\":ids , \"pm2.5\" :predictedgdbt})\n",
    "sub.to_csv(\"728gdbt.csv\" , index=False)"
   ]
  },
  {
   "cell_type": "code",
   "execution_count": 98,
   "metadata": {},
   "outputs": [],
   "source": [
    "aa = gdbt.predict(test)"
   ]
  },
  {
   "cell_type": "code",
   "execution_count": 99,
   "metadata": {},
   "outputs": [],
   "source": [
    "# from ctypes.wintypes import tagRECT\n",
    "# import xgboost as xgb\n",
    "\n",
    "# # 建立 XGBRegressor 模型\n",
    "# cv_params = {'max_depth': [3, 4, 5, 6, 7, 8, 9, 10], 'min_child_weight': [1, 2, 3, 4, 5, 6]}\n",
    "# other_params = {'learning_rate': 0.07, 'n_estimators': 650, 'max_depth': 7, 'min_child_weight': 6, 'seed': 0,\n",
    "#                     'subsample': 0.6, 'colsample_bytree': 0.8, 'gamma': 0.1, 'reg_alpha': 3, 'reg_lambda': 1}\n",
    "# xgbrModel = xgb.XGBRegressor(**other_params)\n",
    "# 使用訓練資料訓練模型\n",
    "# xgbrModel.fit(train_split, target)\n",
    "# 使用test資料預測\n",
    "# predicted=xgbrModel.predict(test)\n",
    "# sub = pd.DataFrame({'id': ids, 'pm2.5': np.round(predicted)})\n",
    "# sub.to_csv('727.csv', index=False) \n",
    "\n",
    "# optimized_GBM = GridSearchCV(estimator=xgbrModel, param_grid=cv_params, scoring='r2', cv=5, verbose=1, n_jobs=4)\n",
    "# optimized_GBM.fit(x_train, y_train)\n",
    "# evalute_result = optimized_GBM.cv_results_\n",
    "# print('每輪结果:{0}'.format(evalute_result))\n",
    "# print('参数的最佳取值：{0}'.format(optimized_GBM.best_params_))\n",
    "# print('最佳模型得分:{0}'.format(optimized_GBM.best_score_))"
   ]
  },
  {
   "cell_type": "code",
   "execution_count": 118,
   "metadata": {},
   "outputs": [],
   "source": [
    "import xgboost as xgb\n",
    "\n",
    "xgbrModel = xgb.XGBRegressor(learning_rate= 0.1,\n",
    "n_estimators= 500,\n",
    "max_depth= 5,\n",
    "min_child_weight= 1,\n",
    "subsample= 0.8,\n",
    "colsample_bytree=0.8,\n",
    "gamma= 0,\n",
    "reg_alpha= 0,\n",
    "reg_lambda= 1)\n",
    "# 使用訓練資料訓練模型\n",
    "xgbrModel.fit(train_split, target)\n",
    "# 使用test資料預測\n",
    "predictedxg=xgbrModel.predict(test)\n"
   ]
  },
  {
   "cell_type": "code",
   "execution_count": 120,
   "metadata": {},
   "outputs": [],
   "source": [
    "sub = pd.DataFrame({\"id\":ids , \"pm2.5\" : predictedxg})\n",
    "sub.to_csv(\"728xg.csv\" , index=False)"
   ]
  },
  {
   "cell_type": "code",
   "execution_count": 105,
   "metadata": {},
   "outputs": [
    {
     "name": "stdout",
     "output_type": "stream",
     "text": [
      "0.1043893679227278\n"
     ]
    }
   ],
   "source": [
    "\n",
    "print(mean_squared_error(y_test ,np.round( )))"
   ]
  },
  {
   "cell_type": "code",
   "execution_count": 107,
   "metadata": {},
   "outputs": [
    {
     "name": "stdout",
     "output_type": "stream",
     "text": [
      "[2.4939456 3.1245987 2.5641482 ... 2.664926  2.1983273 3.1923714]\n"
     ]
    }
   ],
   "source": [
    "print(predicted)"
   ]
  }
 ],
 "metadata": {
  "kernelspec": {
   "display_name": "Python 3.8.4 64-bit",
   "language": "python",
   "name": "python3"
  },
  "language_info": {
   "codemirror_mode": {
    "name": "ipython",
    "version": 3
   },
   "file_extension": ".py",
   "mimetype": "text/x-python",
   "name": "python",
   "nbconvert_exporter": "python",
   "pygments_lexer": "ipython3",
   "version": "3.8.4"
  },
  "vscode": {
   "interpreter": {
    "hash": "205595cd1daa4a192140885c104c4ea416cf31c31e44558713cd0df72bb67f19"
   }
  }
 },
 "nbformat": 4,
 "nbformat_minor": 2
}
